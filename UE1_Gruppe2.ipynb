{
 "cells": [
  {
   "attachments": {},
   "cell_type": "markdown",
   "metadata": {},
   "source": [
    "# Übung 1 - Modellierung von PV-Stromerzeugung\n",
    "\n",
    "Gruppe 2/B\n",
    "\n",
    "Autoren: Ahmed Akhi, Johannes Gerger, Markus Heitzinger"
   ]
  },
  {
   "cell_type": "code",
   "execution_count": 79,
   "metadata": {},
   "outputs": [],
   "source": [
    "# Import von Packages\n",
    "import numpy as np\n",
    "import pandas as pd\n",
    "import matplotlib.pyplot as plt\n",
    "import math"
   ]
  },
  {
   "attachments": {},
   "cell_type": "markdown",
   "metadata": {},
   "source": [
    "__Vorgegebene Funktion zur Bestimmung des relativen Sonnenstands:__"
   ]
  },
  {
   "cell_type": "code",
   "execution_count": 80,
   "metadata": {},
   "outputs": [],
   "source": [
    "def sonnenstand(laengengrad,breitengrad,time):\n",
    "    \"\"\"\n",
    "    Diese Funktion erstellt einen Vektor für den Sonnenstand in 15 min\n",
    "    Auflösung über ein Jahr\n",
    "\n",
    "    die Variable \"azimut\" ergibt einen Vektor des azimuts über ein Jahr\n",
    "    der azimut ergibt nur für positive Hoehenwinkel verlässliche Werte, da\n",
    "    die atan-Funktion nur Abweichungen bis zu 90° liefert. In weiteren \n",
    "    Berechnungen sollten also nur jene Werte mit positiven Hoehenwinkeln \n",
    "    (nach Sonnenaufgang) verwendet werden. Für die Berechnung von PV-Erträgen\n",
    "    reicht dies vollkommen aus. \n",
    "    die Variable \"hoehenwinkel\" ergibt einen Vektor aller hoehenwinkel über \n",
    "    ein Jahr\n",
    "    für Schaltjahre muss die Berechnung dementsprechend angepasst werden. Dies\n",
    "    Anpassung muss im Rahmen dieser LV allerdings nicht berücksichtigt werden.\n",
    "\n",
    "    Quellen zur Berechnung des Sonnenstands: Ursula Eicker(2012), \n",
    "    Jakob Anger(2012), Rainer Blabensteiner(2011)\n",
    "\n",
    "    Args:\n",
    "        laengengrad: float\n",
    "        breitengrad: float\n",
    "        time: pandas.Dataframe\n",
    "\n",
    "    Returns:\n",
    "        azimut: numpy.array\n",
    "        hoehenwinkel: numpy.array\n",
    "    \n",
    "    \"\"\"\n",
    "    ## Zeitgleichung zur Berechnung der wahren Ortszeit\n",
    "    \n",
    "    # Zeitgleichung - ergibt die \n",
    "    # Abweichung der Sonnenuhr von der mittlerer Ortszeit(MOZ)\n",
    "    hw1 = 360 / 365 * time['Tag'] # Hilfswinkel 1\n",
    "    \n",
    "    z = 0.008 * np.cos(np.radians(hw1)) - 0.122 * np.sin(np.radians(hw1)) \\\n",
    "        - 0.052 * np.cos(np.radians(2 * hw1)) - 0.157 * np.sin(np.radians(2 * hw1)) \\\n",
    "        - 0.001 * np.cos(np.radians(3 * hw1)) - 0.005 * np.sin(np.radians(3 * hw1))\n",
    "\n",
    "    WOZ = time['Stunden'] + z + 1 / 15 * laengengrad - math.floor(1/15 * laengengrad) # Wahre Ortszeit (WOZ), der Vektor \n",
    "    # time.Stunden entspricht der mittleren Ortszeit (MOZ) in Stunden\n",
    "    \n",
    "    ## Stundenwinkel bei Berechnung über True Solar Time\n",
    "    # time.Stunden entspricht hier der Sonnenzeit und nicht der Ortszeit\n",
    "    # Stw=15*time.Stunden; #Stundenwinkel \n",
    "    # In einer Stunde legt die Sonne 15Grad zurück deswegen *15\n",
    "    Stw = 15 * WOZ # Stundenwinkel\n",
    "    \n",
    "    ## Berechnung der Deklination\n",
    "    \n",
    "    Ew = 0.98630 * (np.array(time.Tag) - 2.8749) + 1.9137 * np.sin(np.radians(0.98630 * (np.array(time.Tag) - 2.8749))) + 102.06 # Ekliptikale Länge in Grad    \n",
    "    Dw = np.degrees(np.arcsin(-0.3979 * np.sin(np.radians(Ew)))) # Winkel zwischen Äquatorebene und Verbindungs-\n",
    "    # linie Sonne-Erde. Dieser Winkel wird als Sonnendeklination bezeichnet\n",
    "    # und schwankt über das Jahr zwischen 23°26,5' und -23°26,5'\n",
    "\n",
    "    ## Berechnung des Höhenwinkels\n",
    "\n",
    "    hoehenwinkel = np.degrees(np.arcsin(np.sin(np.radians(Dw)) * np.sin(np.radians(breitengrad)) - np.cos(np.radians(Dw)) * np.cos(np.radians(breitengrad)) * np.cos(np.radians(Stw))))\n",
    "\n",
    "    ## Berechnung des Azimuts\n",
    "    # Winkel nach Sonnenuntergang werden hier nicht vollständig abgebildet\n",
    "\n",
    "    azimutfull = 180 + np.degrees(np.arctan(-np.cos(np.radians(Dw)) * np.sin(np.radians(Stw)) / (-np.cos(np.radians(Dw)) * np.sin(np.radians(breitengrad)) * np.cos(np.radians(Stw)) - np.sin(np.radians(Dw)) * np.cos(np.radians(breitengrad)))))\n",
    "    \n",
    "    \n",
    "    azimutfull[hoehenwinkel < -20] = 0 # Eliminiert\n",
    "    # unter -20°\n",
    "\n",
    "    azimutaufteilung = np.reshape(np.array(azimutfull), (96, 365), order=\"F\") # teilt Vektor auf Tage auf\n",
    "    az1 = azimutaufteilung[0:int((len(time['Stunden'])//365)//2), :] # ergibt Werte für die erste Tageshälfte\n",
    "    az1[az1 > 220] = az1[az1 > 220] - 180 # Korrektur der Winkel für Abweichungen von über 90° aus Südrichtung\n",
    "    az11 = az1[0:int(len(time['Stunden'])//365*0.25), :]\n",
    "    az11[az11 >= 180] = az11[az11 >= 180] - 180\n",
    "    az1[0:len(az11[:, 0]), :] = az11\n",
    "\n",
    "    az2 = azimutaufteilung[int((len(time['Stunden'])//365)//2):, :] # ergibt Werte für die zweite Tageshälfte\n",
    "    az2[(az2 < 150) & (az2 > 0)] = az2[(az2 < 150) & (az2 > 0)] + 180 # Korrektur der Winkel für Abweichungen von über 90° aus Südrichtung\n",
    "    az22 = az2[int(len(az2[:, 0])*0.5):, :]\n",
    "    az22[(az22 <= 180) & (az22 > 0)] = az22[(az22 <= 180) & (az22 > 0)] + 180\n",
    "    az2[int(len(az2[:, 0])-len(az22[:, 0])):, :] = az22\n",
    "    \n",
    "    print(len(az1) + len(az2))\n",
    "    azimutaufteilung = np.concatenate((az1, az2), axis=0) # Zusammenfassung der ersten und zweiten Tageshälfte\n",
    "    azimut = np.reshape(azimutaufteilung, (35040, ), order=\"F\") # reshape der Tage in einen Vektor aller Winkel über den Jahresverlauf in 15min Intervalle\n",
    "\n",
    "    return azimut, hoehenwinkel\n"
   ]
  },
  {
   "cell_type": "code",
   "execution_count": 81,
   "metadata": {},
   "outputs": [],
   "source": [
    "laengengrad=16.3\n",
    "breitengrad=48.2\n",
    "Installpv = 1\n",
    "Modulwirkungsgrad = 0.17 # Wirkungsgrad der Panele\n",
    "SonstigeVerluste = 0.8 # Wirkungsgrad aller anderen Komponenten...\n",
    "Installpv = 1 # installierte Leistung der Anlage in kWp\n",
    "\n",
    " # Ausrichtung der PV\n",
    "pv_hoehenwinkel=20 \n",
    "pv_azimut=180\n",
    "Systemkostenkwp=2000 # €/kWp Systemkosten\n",
    "A = 0.2 #Albedo\n",
    "kappa = 1.041\n",
    "E_0 = 1367 #W/m^2\n",
    "\n",
    "dfTime = pd.read_csv(\"time.csv\");\n",
    "dfStrahlung = pd.read_csv(\"Strahlung.csv\");\n",
    "dfTemperatur = pd.read_csv(\"Temperatur.csv\");"
   ]
  },
  {
   "attachments": {},
   "cell_type": "markdown",
   "metadata": {},
   "source": [
    "## 1. Modellimplementierung"
   ]
  },
  {
   "cell_type": "code",
   "execution_count": 82,
   "metadata": {},
   "outputs": [],
   "source": [
    "def jahreserzeugung():\n",
    "    dfSonnenstand = pd.DataFrame(sonnenstand(laengengrad, breitengrad,dfTime))\n",
    "    dfSonnenstand = dfSonnenstand.transpose()\n",
    "    dfSonnenstand.rename(columns = {0:'Azimut'}, inplace = True)\n",
    "    dfSonnenstand.rename(columns = {1:'Höhenwinkel'}, inplace = True)\n",
    "\n",
    "    dfSonnenstand[\"Moduleinfallswinkel\"] = np.degrees(np.arccos(-np.cos(np.radians(dfSonnenstand[\"Höhenwinkel\"]))*np.sin(np.radians(pv_hoehenwinkel)*np.cos(np.radians(dfSonnenstand[\"Azimut\"]-pv_azimut-180)+np.sin(np.radians(dfSonnenstand[\"Höhenwinkel\"])*np.cos(pv_hoehenwinkel))))))\n",
    "\n",
    "    #Strahlungsenergien\n",
    "    dfSonnenstand[\"EdirGen\"] = dfStrahlung[\"DirectHoriz\"] * np.maximum(0, np.cos(np.radians(dfSonnenstand[\"Moduleinfallswinkel\"]))/np.sin(np.radians(dfSonnenstand[\"Höhenwinkel\"])))\n",
    "    dfSonnenstand[\"EdirGen\"] = dfSonnenstand[\"EdirGen\"].fillna(0)\n",
    "\n",
    "    dfSonnenstand[\"EreflGen\"] = dfStrahlung[\"GlobalHoriz\"]*A*(1/2)*(1-np.cos(np.radians(pv_hoehenwinkel)))\n",
    "    dfSonnenstand[\"EdiffGen\"] = dfStrahlung[\"DiffuseInclined\"] * (1 + np.cos(np.radians(pv_hoehenwinkel))) / 2\n",
    "\n",
    "    #Aus Angabe \n",
    "    dfSonnenstand.loc[dfSonnenstand[\"Höhenwinkel\"] < 5] = 0\n",
    "\n",
    "    #Gesamtstrahlungsenergie\n",
    "    dfSonnenstand[\"EgGen\"] = dfSonnenstand[\"EdirGen\"]+dfSonnenstand[\"EdiffGen\"]+dfSonnenstand[\"EreflGen\"]\n",
    "\n",
    "    #Fläche der Anlage unter maximaler Leistung in m^2\n",
    "    PV_A = 1\n",
    "\n",
    "    Pmax = pd.DataFrame()\n",
    "\n",
    "    #Gesamtenergie\n",
    "    Emax = dfSonnenstand[\"EgGen\"] * PV_A * SonstigeVerluste\n",
    "    Pmax[\"Leistung Ohne Temperatur\"] = Emax * 4\n",
    "    \n",
    "\n",
    "    return Pmax"
   ]
  },
  {
   "cell_type": "code",
   "execution_count": 83,
   "metadata": {},
   "outputs": [],
   "source": [
    "def jahreserzeugung_temp():\n",
    "    dfSonnenstand = pd.DataFrame(sonnenstand(laengengrad, breitengrad,dfTime))\n",
    "    dfSonnenstand = dfSonnenstand.transpose()\n",
    "    dfSonnenstand.rename(columns = {0:'Azimut'}, inplace = True)\n",
    "    dfSonnenstand.rename(columns = {1:'Höhenwinkel'}, inplace = True)\n",
    "\n",
    "    dfSonnenstand[\"Moduleinfallswinkel\"] = np.degrees(np.arccos(-np.cos(np.radians(dfSonnenstand[\"Höhenwinkel\"]))*np.sin(np.radians(pv_hoehenwinkel)*np.cos(np.radians(dfSonnenstand[\"Azimut\"]-pv_azimut-180)+np.sin(np.radians(dfSonnenstand[\"Höhenwinkel\"])*np.cos(pv_hoehenwinkel))))))\n",
    "\n",
    "    #Strahlungsenergien\n",
    "    dfSonnenstand[\"EdirGen\"] = dfStrahlung[\"DirectHoriz\"] * np.maximum(0, np.cos(np.radians(dfSonnenstand[\"Moduleinfallswinkel\"]))/np.sin(np.radians(dfSonnenstand[\"Höhenwinkel\"])))\n",
    "    dfSonnenstand[\"EdirGen\"] = dfSonnenstand[\"EdirGen\"].fillna(0)\n",
    "\n",
    "    dfSonnenstand[\"EreflGen\"] = dfStrahlung[\"GlobalHoriz\"]*A*(1/2)*(1-np.cos(np.radians(pv_hoehenwinkel)))\n",
    "    dfSonnenstand[\"EdiffGen\"] = dfStrahlung[\"DiffuseInclined\"] * (1 + np.cos(np.radians(pv_hoehenwinkel))) / 2\n",
    "\n",
    "    #Aus Angabe \n",
    "    dfSonnenstand.loc[dfSonnenstand[\"Höhenwinkel\"] < 5] = 0\n",
    "\n",
    "    #Gesamtstrahlungsenergie\n",
    "    dfSonnenstand[\"EgGen\"] = dfSonnenstand[\"EdirGen\"]+dfSonnenstand[\"EdiffGen\"]+dfSonnenstand[\"EreflGen\"]\n",
    "\n",
    "\n",
    "\n",
    "\n",
    "    #Temperatur_15m =  Temperatur_15m.reshape((35040, 1))\n",
    "    Temperatur_15m = np.array([(x, x, x, x) for x in dfTemperatur.values]).flatten()\n",
    "\n",
    "    #Werte aus bereitgelegter Doku Huld_et\n",
    "    c_t = 0.026\n",
    "    k_1 = -0.017162\n",
    "    k_2 = -0.040289\n",
    "    k_3 = -0.004681\n",
    "    k_4 = 0.000148\n",
    "    k_5 = 0.000169\n",
    "    k_6 = 0.000005\n",
    "\n",
    "    #Stralungsleistung\n",
    "    G_raw = np.zeros(shape=(35040, 1)) \n",
    "    G_raw = dfSonnenstand[\"EgGen\"]\n",
    "    G_Hoch = np.zeros(shape=(35040, 1)) \n",
    "\n",
    "   \n",
    "\n",
    "    #Temperaturbehafteter Wirkungsgrad\n",
    "    Wirk_temp = np.zeros(shape=(35040, 1)) \n",
    "\n",
    "    for index in range(35040):\n",
    "       if G_raw[index] != 0:\n",
    "            G_Hoch[index] = math.log(G_raw[index]/1000)\n",
    "            Wirk_temp[index] = 1 + k_1 * G_Hoch[index] + k_2 * (G_Hoch[index] ** 2) + (Temperatur_15m[index] + c_t * G_raw[index] - 25) * (k_3 + k_4 * G_Hoch[index] + k_5 * (G_Hoch[index] ** 2)) + k_6 * ((Temperatur_15m[index] + c_t * G_raw[index] - 25) ** 2)\n",
    "    \n",
    "    PV_A = 1\n",
    "\n",
    "\n",
    "    Pmax = np.zeros(shape=(35040, 1)) \n",
    "    #Gesamtenergie\n",
    "    for i in range(35040):\n",
    "        Pmax[i] = G_raw[i] * PV_A * SonstigeVerluste * Wirk_temp[i] *4\n",
    "        \n",
    "    return  Pmax"
   ]
  },
  {
   "cell_type": "code",
   "execution_count": null,
   "metadata": {},
   "outputs": [],
   "source": [
    "\n"
   ]
  },
  {
   "attachments": {},
   "cell_type": "markdown",
   "metadata": {},
   "source": [
    "## 2. Anwendung der Modelle"
   ]
  },
  {
   "cell_type": "code",
   "execution_count": 84,
   "metadata": {},
   "outputs": [
    {
     "name": "stdout",
     "output_type": "stream",
     "text": [
      "96\n",
      "96\n"
     ]
    }
   ],
   "source": [
    "# Model ohne Temperatur\n",
    "P_PV = jahreserzeugung()\n",
    "\n",
    "\n",
    "#Model mit Temperatur\n",
    "P_PV_Temp = jahreserzeugung_temp()"
   ]
  },
  {
   "cell_type": "code",
   "execution_count": null,
   "metadata": {},
   "outputs": [],
   "source": []
  },
  {
   "cell_type": "code",
   "execution_count": null,
   "metadata": {},
   "outputs": [],
   "source": []
  },
  {
   "cell_type": "code",
   "execution_count": null,
   "metadata": {},
   "outputs": [],
   "source": []
  },
  {
   "cell_type": "code",
   "execution_count": null,
   "metadata": {},
   "outputs": [],
   "source": []
  },
  {
   "cell_type": "code",
   "execution_count": 85,
   "metadata": {},
   "outputs": [],
   "source": [
    "#def Zeitgleichung(delta, rho, n, mez, laengengrad, breitengrad):\n",
    "#    tau=360/365*n\n",
    "\n",
    "\n",
    "#    tau_rad = np.radians(tau)\n",
    "#    z = 0.008*np.cos(tau_rad)-0.122*np.sin(tau_rad)-0.052*np.cos(2*tau_rad) - 0.157*np.sin(2*tau_rad)-0.001*np.cos(3*tau_rad)-0.005*np.sin(3*tau_rad)\n",
    "\n",
    "#    woz = mez + z + 1/15*laengengrad-1\n",
    "    \n",
    "#    return woz\n",
    "\n",
    "#def Moduleinfallswinkel(sonnenazimut, sonnenhöhe, modulazimut, modulneigungswinkel):\n",
    "#    moduleinfallswinkel = np.arccos(-np.cos(np.radians(sonnenhöhe))*np.sin(np.radians(modulneigungswinkel)*np.cos(np.radians(sonnenazimut-modulazimut-180)+np.sin(np.radians(sonnenhöhe)*np.cos(modulneigungswinkel)))))\n",
    "#    return moduleinfallswinkel\n"
   ]
  },
  {
   "cell_type": "code",
   "execution_count": 86,
   "metadata": {},
   "outputs": [
    {
     "data": {
      "text/plain": [
       "'\\n░░░░░░░█▐▓▓░████▄▄▄█▀▄▓▓▓▌█\\n░░░░░▄█▌▀▄▓▓▄▄▄▄▀▀▀▄▓▓▓▓▓▌█\\n░░░▄█▀▀▄▓█▓▓▓▓▓▓▓▓▓▓▓▓▀░▓▌█\\n░░█▀▄▓▓▓███▓▓▓███▓▓▓▄░░▄▓▐█▌\\n░█▌▓▓▓▀▀▓▓▓▓███▓▓▓▓▓▓▓▄▀▓▓▐█\\n▐█▐██▐░▄▓▓▓▓▓▀▄░▀▓▓▓▓▓▓▓▓▓▌█▌\\n█▌███▓▓▓▓▓▓▓▓▐░░▄▓▓███▓▓▓▄▀▐█\\n█▐█▓▀░░▀▓▓▓▓▓▓▓▓▓██████▓▓▓▓▐█\\n▌▓▄▌▀░▀░▐▀█▄▓▓██████████▓▓▓▌█▌\\n▌▓▓▓▄▄▀▀▓▓▓▀▓▓▓▓▓▓▓▓█▓█▓█▓▓▌█▌\\n█▐▓▓▓▓▓▓▄▄▄▓▓▓▓▓▓█▓█▓█▓█▓▓▓▐█\\n'"
      ]
     },
     "execution_count": 86,
     "metadata": {},
     "output_type": "execute_result"
    }
   ],
   "source": [
    "\"\"\"\n",
    "░░░░░░░█▐▓▓░████▄▄▄█▀▄▓▓▓▌█\n",
    "░░░░░▄█▌▀▄▓▓▄▄▄▄▀▀▀▄▓▓▓▓▓▌█\n",
    "░░░▄█▀▀▄▓█▓▓▓▓▓▓▓▓▓▓▓▓▀░▓▌█\n",
    "░░█▀▄▓▓▓███▓▓▓███▓▓▓▄░░▄▓▐█▌\n",
    "░█▌▓▓▓▀▀▓▓▓▓███▓▓▓▓▓▓▓▄▀▓▓▐█\n",
    "▐█▐██▐░▄▓▓▓▓▓▀▄░▀▓▓▓▓▓▓▓▓▓▌█▌\n",
    "█▌███▓▓▓▓▓▓▓▓▐░░▄▓▓███▓▓▓▄▀▐█\n",
    "█▐█▓▀░░▀▓▓▓▓▓▓▓▓▓██████▓▓▓▓▐█\n",
    "▌▓▄▌▀░▀░▐▀█▄▓▓██████████▓▓▓▌█▌\n",
    "▌▓▓▓▄▄▀▀▓▓▓▀▓▓▓▓▓▓▓▓█▓█▓█▓▓▌█▌\n",
    "█▐▓▓▓▓▓▓▄▄▄▓▓▓▓▓▓█▓█▓█▓█▓▓▓▐█\n",
    "\"\"\""
   ]
  }
 ],
 "metadata": {
  "kernelspec": {
   "display_name": "Python 3",
   "language": "python",
   "name": "python3"
  },
  "language_info": {
   "codemirror_mode": {
    "name": "ipython",
    "version": 3
   },
   "file_extension": ".py",
   "mimetype": "text/x-python",
   "name": "python",
   "nbconvert_exporter": "python",
   "pygments_lexer": "ipython3",
   "version": "3.11.7"
  }
 },
 "nbformat": 4,
 "nbformat_minor": 4
}
